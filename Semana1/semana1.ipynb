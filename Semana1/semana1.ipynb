{
 "cells": [
  {
   "cell_type": "markdown",
   "id": "d69fa7a3",
   "metadata": {},
   "source": [
    "## 📅 Semana 1 – Fundamentos de Python\n",
    "\n",
    "**Objetivo:** Sintaxis básica, estructuras de datos, funciones y un vistazo a OOP.\n",
    "**Mini-proyecto viernes:** Analizador de texto (word counter + frecuencia + longitud media).\n",
    "\n",
    "---\n",
    "\n",
    "### 📌 Lunes – “Wasaaaaap?” y tipos de datos\n",
    "\n",
    "* **Conceptos:**\n",
    "\n",
    "  * Sintaxis base de Python (`print`, comentarios `#`).\n",
    "  * Tipos primitivos: `int`, `float`, `str`, `bool`.\n",
    "  * Variables (naming conventions: `snake_case`).\n",
    "* **Actividades:**\n",
    "\n",
    "  * Escribe tu primer `hey_you.py`.\n",
    "  * Haz operaciones aritméticas básicas.\n",
    "  * Manipula strings: slicing, concatenación.\n",
    "* **Vocabulario dev:**\n",
    "\n",
    "  * *Script:* un archivo `.py` que corre en la terminal.\n",
    "  * *Runtime:* el momento en que tu código se está ejecutando.\n",
    "  * *Bug:* error en el código.\n",
    "\n",
    "---"
   ]
  },
  {
   "cell_type": "markdown",
   "id": "f0e082ca",
   "metadata": {},
   "source": [
    "# Sintaxis Python\n",
    "A continuación veremos la sintaxis de Python, viendo como podemos empezar a usar el lenguaje creando nuestras primeras variables y estructuras de control.\n",
    "\n",
    "El termino sintaxis hace referencia al conjunto de reglas que definen como se tiene que escribir el código en un determinado lenguaje de programación. Es decir, hace referencia a la forma en la que debemos escribir las instrucciones para que el ordenador, o más bien lenguaje de programación, nos entienda.\n",
    "\n",
    "En la mayoría de lenguajes existe una sintaxis común, como por ejemplo el uso de = para asignar un dato a una variable, o el uso de {} para designar bloques de código, pero Python tiene ciertas particularidades.\n",
    "\n",
    "La sintaxis es a la programación lo que la gramática es a los idiomas. De la misma forma que la frase “Yo estamos aquí” no es correcta, el siguiente código en Python no sería correcto, ya que no respeta las normas del lenguaje."
   ]
  },
  {
   "cell_type": "code",
   "execution_count": 13,
   "id": "3ede15a2",
   "metadata": {},
   "outputs": [
    {
     "name": "stdout",
     "output_type": "stream",
     "text": [
      "Número=  9\n",
      "esto es una cadena de texto en Python\n",
      "esto es otra cadena de texto en Python\n"
     ]
    }
   ],
   "source": [
    "num_entero = 9\n",
    "print('Número= ', num_entero)\n",
    "\n",
    "# esto es un comentario\n",
    "\n",
    "oracion_1 = 'esto es una cadena de texto en Python' # esta oración no está comentada\n",
    "\n",
    "# oracion_2 = 'esto es otra cadena de texto en Python'\n",
    "\n",
    "print(oracion_1)\n",
    "\n",
    "print(oracion_2)"
   ]
  },
  {
   "cell_type": "markdown",
   "id": "1164668e",
   "metadata": {},
   "source": [
    "# Tipos de datos primitivos en Python\n",
    "\n",
    "Los tipos de datos primitivos en Python son los bloques de construcción fundamentales y no se pueden descomponer en componentes más pequeños. Son: Enteros (int), que son números enteros; Flotantes (float), para números decimales; Cadenas (str), para secuencias de caracteres; Booleanos (bool), que representan True o False; y NoneType (None), que representa la ausencia de valor. \n",
    "\n",
    "---\n"
   ]
  },
  {
   "cell_type": "markdown",
   "id": "20f5a579",
   "metadata": {},
   "source": [
    "### Enteros (int): Representan números enteros, tanto positivos como negativos, sin límite de tamaño en Python."
   ]
  },
  {
   "cell_type": "code",
   "execution_count": 16,
   "id": "59655e91",
   "metadata": {},
   "outputs": [
    {
     "name": "stdout",
     "output_type": "stream",
     "text": [
      "Edad:  23\n",
      "<class 'int'>\n",
      "Edad:  40\n",
      "Tipo de dato de edad:  <class 'int'>\n"
     ]
    }
   ],
   "source": [
    "edad = 23\n",
    "print('Edad: ', edad)\n",
    "\n",
    "print(type(edad)) # <class 'int'>\n",
    "\n",
    "edad = 40\n",
    "print('Edad: ', edad)\n",
    "print('Tipo de dato de edad: ', type(edad))"
   ]
  },
  {
   "cell_type": "markdown",
   "id": "4626be12",
   "metadata": {},
   "source": [
    "### Flotantes (float): Se utilizan para representar números decimales, es decir, números con una parte fraccionaria. "
   ]
  },
  {
   "cell_type": "code",
   "execution_count": 25,
   "id": "8c009a24",
   "metadata": {},
   "outputs": [
    {
     "name": "stdout",
     "output_type": "stream",
     "text": [
      "iPhone 16 Pro a tan solo: 99.99\n",
      "Tipo de dato de precio_oferta: <class 'float'>\n",
      "iPhone 900 Pro a tan solo: 999999999.99\n",
      "Tipo de dato de precio_oferta: <class 'float'>\n"
     ]
    }
   ],
   "source": [
    "precio_oferta = 99.99 # que ofertazo!!!\n",
    "\n",
    "print('iPhone 16 Pro a tan solo:', precio_oferta)\n",
    "\n",
    "# queremos saber el tipo de dato de la variable oferta\n",
    "print('Tipo de dato de precio_oferta:', type(precio_oferta))\n",
    "\n",
    "precio_oferta_2 = 999999999.99 # que ofertazo!!!\n",
    "\n",
    "print('iPhone 900 Pro a tan solo:', precio_oferta_2)\n",
    "\n",
    "# queremos saber el tipo de dato de la variable oferta\n",
    "print('Tipo de dato de precio_oferta:', type(precio_oferta_2))"
   ]
  },
  {
   "cell_type": "markdown",
   "id": "9e21385d",
   "metadata": {},
   "source": [
    "### Cadenas (str): Son secuencias de caracteres que se escriben entre comillas simples o dobles. "
   ]
  },
  {
   "cell_type": "code",
   "execution_count": 26,
   "id": "fe6a7e09",
   "metadata": {},
   "outputs": [
    {
     "name": "stdout",
     "output_type": "stream",
     "text": [
      "Tony\n",
      "***************\n",
      "Tony Gael\n"
     ]
    }
   ],
   "source": [
    "nombre = 'Tony'\n",
    "nombre_completo = 'Tony Gael'\n",
    "\n",
    "print(nombre)\n",
    "print('***************')\n",
    "print(nombre_completo)"
   ]
  },
  {
   "cell_type": "markdown",
   "id": "cfa453ca",
   "metadata": {},
   "source": []
  },
  {
   "cell_type": "markdown",
   "id": "e7eef175",
   "metadata": {},
   "source": [
    "# Datos Booleanos:\n",
    "\n",
    "Un dato booleano es un tipo de dato lógico que solo puede tener uno de dos valores: verdadero (true) o falso (false). Se utiliza en computación, programación y lógica para expresar estados de verdad y tomar decisiones en el código mediante operadores lógicos como \"y\", \"o\" y \"no\". El nombre proviene del matemático George Boole. \n",
    "\n",
    "### Características principales:\n",
    "Dos valores: Solo puede ser true (verdadero) o false (falso). \n",
    "Lógica binaria: Representa conceptos de la lógica binaria. \n",
    "Uso en condiciones: Permite crear condiciones en programación, controlando el flujo de un programa. \n",
    "\n",
    "### ¿Dónde se utiliza?\n",
    "Programación: Es fundamental para tomar decisiones en el código (ej. \"si la contraseña es correcta, permite el acceso\"). \n",
    "Bases de datos: Para almacenar valores de verdad en campos de bases de datos. \n",
    "Electrónica y matemáticas: En álgebra booleana y el diseño de circuitos electrónicos. \n",
    "\n",
    "### Ejemplo:\n",
    "Si tienes una expresión como 5 > 3, el resultado de esa expresión es un dato booleano: true. Si es 5 < 3, el resultado es false. \n",
    "\n",
    "### Operadores lógicos:\n",
    "Se pueden combinar datos booleanos usando operadores para crear expresiones más complejas: \n",
    "Y (AND): El resultado es true solo si ambos valores son true. \n",
    "O (OR): El resultado es true si al menos uno de los valores es true. \n",
    "NO (NOT): Invierte el valor booleano (si es true, se vuelve false, y viceversa). "
   ]
  },
  {
   "cell_type": "markdown",
   "id": "9fb02746",
   "metadata": {},
   "source": []
  },
  {
   "cell_type": "code",
   "execution_count": null,
   "id": "4661f386",
   "metadata": {},
   "outputs": [
    {
     "name": "stdout",
     "output_type": "stream",
     "text": [
      "True\n",
      "False\n",
      "True\n",
      "True\n",
      "True\n",
      "False\n"
     ]
    }
   ],
   "source": [
    "print(5 > 1) # True \n",
    "print(10 < 2) # False\n",
    "print(0 == 0) # True \n",
    "print(5 != 9) # True\n",
    "print(3 == 3.0) # no sé, era True\n",
    "print(1 == 2) # False \n",
    "\n",
    "\n",
    "# un solo igual (=) sirve para asignar valores a variables\n",
    "# dos iguales (==) sirve para comparación lógica"
   ]
  },
  {
   "cell_type": "markdown",
   "id": "d11249e1",
   "metadata": {},
   "source": [
    "# Tipo de dato: None\n",
    "\n",
    "En Python, None es una palabra clave especial que representa la ausencia de un valor o un valor nulo. Es un tipo de dato propio llamado NoneType, un objeto único (un singleton), que funciona como un marcador para indicar que una variable no tiene ningún dato o contenido válido asignado en ese momento. \n",
    "\n",
    "### Características clave de None:\n",
    "Ausencia de valor: Es la forma de indicar que una variable o una función no tiene un valor específico. \n",
    "\n",
    "### Un objeto único (singleton): Solo existe una instancia de None en todo el programa. \n",
    "\n",
    "### NoneType: Es un tipo de dato propio, distinto de otros como False, 0, o una cadena vacía. \n",
    "\n",
    "### Uso como marcador de posición: Sirve para inicializar variables cuando aún no se conoce el valor que tendrán. \n",
    "\n",
    "### Retorno por defecto de funciones: Si una función no incluye una sentencia return explícita, o llega al final sin encontrar una, devolverá None.\n",
    "\n",
    "---"
   ]
  },
  {
   "cell_type": "code",
   "execution_count": null,
   "id": "8a79d459",
   "metadata": {},
   "outputs": [
    {
     "name": "stdout",
     "output_type": "stream",
     "text": [
      "<class 'NoneType'>\n"
     ]
    }
   ],
   "source": [
    "un_valor_nulo = None\n",
    "print(type(un_valor_nulo)) # debería imprimir: <class 'NoneType'>"
   ]
  },
  {
   "cell_type": "code",
   "execution_count": null,
   "id": "fd84e8df",
   "metadata": {},
   "outputs": [],
   "source": [
    "var_snake_case = 'esto_es_snake_case'\n",
    "\n",
    "CamelCaseVariable = 'EstoEsUnCamelCase'\n",
    "\n",
    "MAXIMO_USUARIOS = 1000 # ESTO ES UNA CONSTANTE\n",
    "\n",
    "NUMERO_PI = 3.14 # OTRA CONSTANTE, PI SIEMPRE VALE LO MISMO\n",
    "\n"
   ]
  }
 ],
 "metadata": {
  "kernelspec": {
   "display_name": ".venv",
   "language": "python",
   "name": "python3"
  },
  "language_info": {
   "codemirror_mode": {
    "name": "ipython",
    "version": 3
   },
   "file_extension": ".py",
   "mimetype": "text/x-python",
   "name": "python",
   "nbconvert_exporter": "python",
   "pygments_lexer": "ipython3",
   "version": "3.12.3"
  }
 },
 "nbformat": 4,
 "nbformat_minor": 5
}
